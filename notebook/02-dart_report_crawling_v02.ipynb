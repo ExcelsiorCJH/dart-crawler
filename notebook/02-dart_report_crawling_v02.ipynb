{
 "cells": [
  {
   "cell_type": "markdown",
   "metadata": {},
   "source": [
    "# Dart Report Crawler"
   ]
  },
  {
   "cell_type": "markdown",
   "metadata": {},
   "source": [
    "## 0. imports"
   ]
  },
  {
   "cell_type": "code",
   "execution_count": 1,
   "metadata": {},
   "outputs": [
    {
     "data": {
      "text/html": [
       "\n",
       "                <script type=\"application/javascript\" id=\"jupyter_black\">\n",
       "                (function() {\n",
       "                    if (window.IPython === undefined) {\n",
       "                        return\n",
       "                    }\n",
       "                    var msg = \"WARNING: it looks like you might have loaded \" +\n",
       "                        \"jupyter_black in a non-lab notebook with \" +\n",
       "                        \"`is_lab=True`. Please double check, and if \" +\n",
       "                        \"loading with `%load_ext` please review the README!\"\n",
       "                    console.log(msg)\n",
       "                    alert(msg)\n",
       "                })()\n",
       "                </script>\n",
       "                "
      ],
      "text/plain": [
       "<IPython.core.display.HTML object>"
      ]
     },
     "metadata": {},
     "output_type": "display_data"
    }
   ],
   "source": [
    "%load_ext jupyter_black"
   ]
  },
  {
   "cell_type": "code",
   "execution_count": 6,
   "metadata": {},
   "outputs": [],
   "source": [
    "# import os\n",
    "# import re\n",
    "# import random\n",
    "# import requests\n",
    "# import time\n",
    "\n",
    "# import dill\n",
    "# import OpenDartReader\n",
    "# import pandas as pd\n",
    "\n",
    "# from datetime import datetime, timedelta\n",
    "# from bs4 import BeautifulSoup\n",
    "# from tqdm.auto import tqdm"
   ]
  },
  {
   "cell_type": "code",
   "execution_count": null,
   "metadata": {},
   "outputs": [],
   "source": [
    "# from dotenv import load_dotenv\n",
    "\n",
    "# load_dotenv()"
   ]
  },
  {
   "cell_type": "markdown",
   "metadata": {},
   "source": [
    "## 1. Class"
   ]
  },
  {
   "cell_type": "code",
   "execution_count": 6,
   "metadata": {},
   "outputs": [],
   "source": [
    "# class DartCrawler:\n",
    "#     def __init__(self):\n",
    "#         self.dart = OpenDartReader(os.getenv(\"DART_API_KEY\"))\n",
    "\n",
    "#     def get_list(self, start_date: str, end_date: str, kind: str = \"\") -> pd.DataFrame:\n",
    "#         self.start_date, self.end_date = start_date, end_date\n",
    "#         start = datetime.strptime(start_date, \"%Y-%m-%d\")\n",
    "#         end = datetime.strptime(end_date, \"%Y-%m-%d\")\n",
    "#         dfs = []\n",
    "\n",
    "#         while start < end:\n",
    "#             next_month = start + timedelta(days=30)\n",
    "#             if next_month > end:\n",
    "#                 next_month = end\n",
    "\n",
    "#             dfs.append(\n",
    "#                 self.dart.list(\n",
    "#                     start=start.strftime(\"%Y-%m-%d\"),\n",
    "#                     end=next_month.strftime(\"%Y-%m-%d\"),\n",
    "#                     kind=kind,\n",
    "#                 )\n",
    "#             )\n",
    "#             start = next_month\n",
    "\n",
    "#         self.list_df = pd.concat(dfs, ignore_index=True)\n",
    "#         self.list_df = self.list_df.reset_index(drop=True)\n",
    "#         return self.list_df\n",
    "\n",
    "#     def get_document(self, list_df: pd.DataFrame, save_dir: str = \"data\") -> list[dict]:\n",
    "#         self.data = []\n",
    "#         for idx, row in tqdm(list_df.iterrows(), total=len(list_df)):\n",
    "#             corp_code, corp_name = row[\"corp_code\"], row[\"corp_name\"]\n",
    "#             rcept_no, report_nm = row[\"rcept_no\"], row[\"report_nm\"]\n",
    "\n",
    "#             doc_df = self.dart.sub_docs(rcept_no)\n",
    "#             document = {}\n",
    "#             for idx, row in doc_df.iterrows():\n",
    "#                 url = row[\"url\"]\n",
    "#                 title = row[\"title\"]\n",
    "#                 response = requests.get(url)\n",
    "#                 soup = BeautifulSoup(response.text, \"html.parser\")\n",
    "#                 text = soup.get_text(strip=False)\n",
    "#                 text = re.sub(r\"\\n+\", \"\\n\", text)\n",
    "#                 text = re.sub(r\" {2,}\", \" \", text)\n",
    "\n",
    "#                 document[\"title\"] = title\n",
    "#                 document[\"text\"] = text\n",
    "\n",
    "#             self.data.append(\n",
    "#                 {\n",
    "#                     \"corp_code\": corp_code,\n",
    "#                     \"corp_name\": corp_name,\n",
    "#                     \"report_nm\": report_nm,\n",
    "#                     \"document\": document,\n",
    "#                 }\n",
    "#             )\n",
    "\n",
    "#             time.sleep(random.uniform(0.3, 0.9))\n",
    "#         if save_dir:\n",
    "#             self._save_data(self.data, save_dir)\n",
    "\n",
    "#         return self.data\n",
    "\n",
    "#     def _save_data(self, data: list[dict], save_dir: str = \"data\") -> None:\n",
    "#         if not os.path.exists(save_dir):\n",
    "#             os.makedirs(save_dir)\n",
    "\n",
    "#         save_path = os.path.join(\n",
    "#             save_dir, f\"dart_report_{self.start_date}_{self.end_date}.pkl\"\n",
    "#         )\n",
    "#         with open(save_path, \"wb\") as f:\n",
    "#             dill.dump(data, f)"
   ]
  },
  {
   "cell_type": "code",
   "execution_count": 9,
   "metadata": {},
   "outputs": [],
   "source": [
    "# crawler = DartCrawler()\n",
    "\n",
    "# list_df = crawler.get_list(start_date=\"2024-01-01\", end_date=\"2024-01-02\")\n",
    "# data = crawler.get_document(list_df, save_dir=\"../data\")"
   ]
  },
  {
   "cell_type": "code",
   "execution_count": 11,
   "metadata": {},
   "outputs": [],
   "source": []
  },
  {
   "cell_type": "code",
   "execution_count": 1,
   "metadata": {},
   "outputs": [],
   "source": [
    "import sys\n",
    "\n",
    "sys.path.append(\"..\")"
   ]
  },
  {
   "cell_type": "code",
   "execution_count": 2,
   "metadata": {},
   "outputs": [],
   "source": [
    "from src.dart_crawler import DartCrawler"
   ]
  },
  {
   "cell_type": "code",
   "execution_count": 3,
   "metadata": {},
   "outputs": [],
   "source": [
    "crawler = DartCrawler()\n",
    "\n",
    "list_df = crawler.get_list(start_date=\"2024-03-20\", end_date=\"2024-03-31\", kind=\"A\")\n",
    "list_df = list_df.sort_values(by=\"rcept_dt\")"
   ]
  },
  {
   "cell_type": "code",
   "execution_count": 4,
   "metadata": {},
   "outputs": [
    {
     "data": {
      "text/html": [
       "<div>\n",
       "<style scoped>\n",
       "    .dataframe tbody tr th:only-of-type {\n",
       "        vertical-align: middle;\n",
       "    }\n",
       "\n",
       "    .dataframe tbody tr th {\n",
       "        vertical-align: top;\n",
       "    }\n",
       "\n",
       "    .dataframe thead th {\n",
       "        text-align: right;\n",
       "    }\n",
       "</style>\n",
       "<table border=\"1\" class=\"dataframe\">\n",
       "  <thead>\n",
       "    <tr style=\"text-align: right;\">\n",
       "      <th></th>\n",
       "      <th>corp_code</th>\n",
       "      <th>corp_name</th>\n",
       "      <th>stock_code</th>\n",
       "      <th>corp_cls</th>\n",
       "      <th>report_nm</th>\n",
       "      <th>rcept_no</th>\n",
       "      <th>flr_nm</th>\n",
       "      <th>rcept_dt</th>\n",
       "      <th>rm</th>\n",
       "    </tr>\n",
       "  </thead>\n",
       "  <tbody>\n",
       "    <tr>\n",
       "      <th>0</th>\n",
       "      <td>01046203</td>\n",
       "      <td>스튜디오산타클로스</td>\n",
       "      <td>204630</td>\n",
       "      <td>K</td>\n",
       "      <td>사업보고서제출기한연장신고서 (2023.12)</td>\n",
       "      <td>20240319000864</td>\n",
       "      <td>스튜디오산타클로스</td>\n",
       "      <td>20240320</td>\n",
       "      <td></td>\n",
       "    </tr>\n",
       "    <tr>\n",
       "      <th>460</th>\n",
       "      <td>00353610</td>\n",
       "      <td>이니텍</td>\n",
       "      <td>053350</td>\n",
       "      <td>K</td>\n",
       "      <td>사업보고서 (2023.12)</td>\n",
       "      <td>20240320000014</td>\n",
       "      <td>이니텍</td>\n",
       "      <td>20240320</td>\n",
       "      <td></td>\n",
       "    </tr>\n",
       "    <tr>\n",
       "      <th>461</th>\n",
       "      <td>00683283</td>\n",
       "      <td>LS전선</td>\n",
       "      <td></td>\n",
       "      <td>E</td>\n",
       "      <td>사업보고서 (2023.12)</td>\n",
       "      <td>20240320000026</td>\n",
       "      <td>LS전선</td>\n",
       "      <td>20240320</td>\n",
       "      <td>연</td>\n",
       "    </tr>\n",
       "    <tr>\n",
       "      <th>462</th>\n",
       "      <td>00372253</td>\n",
       "      <td>연우</td>\n",
       "      <td>115960</td>\n",
       "      <td>E</td>\n",
       "      <td>사업보고서 (2023.12)</td>\n",
       "      <td>20240320000054</td>\n",
       "      <td>연우</td>\n",
       "      <td>20240320</td>\n",
       "      <td>연</td>\n",
       "    </tr>\n",
       "    <tr>\n",
       "      <th>463</th>\n",
       "      <td>00557508</td>\n",
       "      <td>GKL</td>\n",
       "      <td>114090</td>\n",
       "      <td>Y</td>\n",
       "      <td>사업보고서 (2023.12)</td>\n",
       "      <td>20240320000077</td>\n",
       "      <td>GKL</td>\n",
       "      <td>20240320</td>\n",
       "      <td>연</td>\n",
       "    </tr>\n",
       "    <tr>\n",
       "      <th>...</th>\n",
       "      <td>...</td>\n",
       "      <td>...</td>\n",
       "      <td>...</td>\n",
       "      <td>...</td>\n",
       "      <td>...</td>\n",
       "      <td>...</td>\n",
       "      <td>...</td>\n",
       "      <td>...</td>\n",
       "      <td>...</td>\n",
       "    </tr>\n",
       "    <tr>\n",
       "      <th>1652</th>\n",
       "      <td>01361245</td>\n",
       "      <td>엘에이티</td>\n",
       "      <td></td>\n",
       "      <td>E</td>\n",
       "      <td>[첨부추가]사업보고서 (2023.12)</td>\n",
       "      <td>20240329001767</td>\n",
       "      <td>엘에이티</td>\n",
       "      <td>20240329</td>\n",
       "      <td>연</td>\n",
       "    </tr>\n",
       "    <tr>\n",
       "      <th>1653</th>\n",
       "      <td>01011562</td>\n",
       "      <td>우성아이비</td>\n",
       "      <td>194610</td>\n",
       "      <td>E</td>\n",
       "      <td>[첨부추가]사업보고서 (2023.12)</td>\n",
       "      <td>20240329001730</td>\n",
       "      <td>우성아이비</td>\n",
       "      <td>20240329</td>\n",
       "      <td>연</td>\n",
       "    </tr>\n",
       "    <tr>\n",
       "      <th>1654</th>\n",
       "      <td>00382834</td>\n",
       "      <td>한국남부발전</td>\n",
       "      <td></td>\n",
       "      <td>E</td>\n",
       "      <td>사업보고서 (2023.12)</td>\n",
       "      <td>20240329003415</td>\n",
       "      <td>한국남부발전</td>\n",
       "      <td>20240329</td>\n",
       "      <td>연</td>\n",
       "    </tr>\n",
       "    <tr>\n",
       "      <th>1656</th>\n",
       "      <td>01446759</td>\n",
       "      <td>뱅크샐러드</td>\n",
       "      <td></td>\n",
       "      <td>E</td>\n",
       "      <td>사업보고서 (2023.12)</td>\n",
       "      <td>20240329003403</td>\n",
       "      <td>뱅크샐러드</td>\n",
       "      <td>20240329</td>\n",
       "      <td></td>\n",
       "    </tr>\n",
       "    <tr>\n",
       "      <th>1790</th>\n",
       "      <td>01150311</td>\n",
       "      <td>선우</td>\n",
       "      <td></td>\n",
       "      <td>E</td>\n",
       "      <td>[첨부추가]사업보고서 (2023.12)</td>\n",
       "      <td>20240329001863</td>\n",
       "      <td>선우</td>\n",
       "      <td>20240329</td>\n",
       "      <td>연</td>\n",
       "    </tr>\n",
       "  </tbody>\n",
       "</table>\n",
       "<p>1791 rows × 9 columns</p>\n",
       "</div>"
      ],
      "text/plain": [
       "     corp_code  corp_name stock_code corp_cls                 report_nm  \\\n",
       "0     01046203  스튜디오산타클로스     204630        K  사업보고서제출기한연장신고서 (2023.12)   \n",
       "460   00353610        이니텍     053350        K           사업보고서 (2023.12)   \n",
       "461   00683283       LS전선                   E           사업보고서 (2023.12)   \n",
       "462   00372253         연우     115960        E           사업보고서 (2023.12)   \n",
       "463   00557508        GKL     114090        Y           사업보고서 (2023.12)   \n",
       "...        ...        ...        ...      ...                       ...   \n",
       "1652  01361245       엘에이티                   E     [첨부추가]사업보고서 (2023.12)   \n",
       "1653  01011562      우성아이비     194610        E     [첨부추가]사업보고서 (2023.12)   \n",
       "1654  00382834     한국남부발전                   E           사업보고서 (2023.12)   \n",
       "1656  01446759      뱅크샐러드                   E           사업보고서 (2023.12)   \n",
       "1790  01150311         선우                   E     [첨부추가]사업보고서 (2023.12)   \n",
       "\n",
       "            rcept_no     flr_nm  rcept_dt rm  \n",
       "0     20240319000864  스튜디오산타클로스  20240320     \n",
       "460   20240320000014        이니텍  20240320     \n",
       "461   20240320000026       LS전선  20240320  연  \n",
       "462   20240320000054         연우  20240320  연  \n",
       "463   20240320000077        GKL  20240320  연  \n",
       "...              ...        ...       ... ..  \n",
       "1652  20240329001767       엘에이티  20240329  연  \n",
       "1653  20240329001730      우성아이비  20240329  연  \n",
       "1654  20240329003415     한국남부발전  20240329  연  \n",
       "1656  20240329003403      뱅크샐러드  20240329     \n",
       "1790  20240329001863         선우  20240329  연  \n",
       "\n",
       "[1791 rows x 9 columns]"
      ]
     },
     "execution_count": 4,
     "metadata": {},
     "output_type": "execute_result"
    }
   ],
   "source": [
    "list_df"
   ]
  },
  {
   "cell_type": "code",
   "execution_count": 6,
   "metadata": {},
   "outputs": [
    {
     "data": {
      "application/vnd.jupyter.widget-view+json": {
       "model_id": "32e4397b3afa4901b0e77c11dc7878c0",
       "version_major": 2,
       "version_minor": 0
      },
      "text/plain": [
       "  0%|          | 0/100 [00:00<?, ?it/s]"
      ]
     },
     "metadata": {},
     "output_type": "display_data"
    }
   ],
   "source": [
    "data = crawler.get_document(list_df[:100], save_dir=\"../data\")"
   ]
  },
  {
   "cell_type": "code",
   "execution_count": 7,
   "metadata": {},
   "outputs": [],
   "source": [
    "import dill"
   ]
  },
  {
   "cell_type": "code",
   "execution_count": 8,
   "metadata": {},
   "outputs": [],
   "source": [
    "with open(\"../data/dart_report_20240320_20240320.pkl\", \"rb\") as f:\n",
    "    loaded_data = dill.load(f)\n"
   ]
  },
  {
   "cell_type": "code",
   "execution_count": 11,
   "metadata": {},
   "outputs": [],
   "source": [
    "# loaded_data[-1]"
   ]
  },
  {
   "cell_type": "code",
   "execution_count": null,
   "metadata": {},
   "outputs": [],
   "source": []
  }
 ],
 "metadata": {
  "kernelspec": {
   "display_name": "study",
   "language": "python",
   "name": "python3"
  },
  "language_info": {
   "codemirror_mode": {
    "name": "ipython",
    "version": 3
   },
   "file_extension": ".py",
   "mimetype": "text/x-python",
   "name": "python",
   "nbconvert_exporter": "python",
   "pygments_lexer": "ipython3",
   "version": "3.11.9"
  }
 },
 "nbformat": 4,
 "nbformat_minor": 2
}
