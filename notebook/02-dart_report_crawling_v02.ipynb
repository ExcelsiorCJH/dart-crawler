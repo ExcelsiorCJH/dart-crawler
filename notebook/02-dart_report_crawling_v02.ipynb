{
 "cells": [
  {
   "cell_type": "markdown",
   "metadata": {},
   "source": [
    "# Dart Report Crawler"
   ]
  },
  {
   "cell_type": "markdown",
   "metadata": {},
   "source": [
    "## 0. imports"
   ]
  },
  {
   "cell_type": "code",
   "execution_count": 5,
   "metadata": {},
   "outputs": [],
   "source": [
    "%load_ext jupyter_black"
   ]
  },
  {
   "cell_type": "code",
   "execution_count": 6,
   "metadata": {},
   "outputs": [],
   "source": [
    "import os\n",
    "import re\n",
    "import random\n",
    "import requests\n",
    "import time\n",
    "\n",
    "import dill\n",
    "import OpenDartReader\n",
    "import pandas as pd\n",
    "\n",
    "from datetime import datetime, timedelta\n",
    "from bs4 import BeautifulSoup\n",
    "from tqdm.auto import tqdm"
   ]
  },
  {
   "cell_type": "code",
   "execution_count": null,
   "metadata": {},
   "outputs": [],
   "source": [
    "from dotenv import load_dotenv\n",
    "\n",
    "load_dotenv()"
   ]
  },
  {
   "cell_type": "markdown",
   "metadata": {},
   "source": [
    "## 1. Class"
   ]
  },
  {
   "cell_type": "code",
   "execution_count": 8,
   "metadata": {},
   "outputs": [],
   "source": [
    "class DartCrawler:\n",
    "    def __init__(self):\n",
    "        self.dart = OpenDartReader(os.getenv(\"DART_API_KEY\"))\n",
    "\n",
    "    def get_list(self, start_date: str, end_date: str, kind: str = \"\") -> pd.DataFrame:\n",
    "        self.start_date, self.end_date = start_date, end_date\n",
    "        start = datetime.strptime(start_date, \"%Y-%m-%d\")\n",
    "        end = datetime.strptime(end_date, \"%Y-%m-%d\")\n",
    "        dfs = []\n",
    "\n",
    "        while start < end:\n",
    "            next_month = start + timedelta(days=30)\n",
    "            if next_month > end:\n",
    "                next_month = end\n",
    "\n",
    "            dfs.append(\n",
    "                self.dart.list(\n",
    "                    start=start.strftime(\"%Y-%m-%d\"),\n",
    "                    end=next_month.strftime(\"%Y-%m-%d\"),\n",
    "                    kind=kind,\n",
    "                )\n",
    "            )\n",
    "            start = next_month\n",
    "\n",
    "        self.list_df = pd.concat(dfs, ignore_index=True)\n",
    "        self.list_df = self.list_df.reset_index(drop=True)\n",
    "        return self.list_df\n",
    "\n",
    "    def get_document(self, list_df: pd.DataFrame, save_dir: str = \"data\") -> list[dict]:\n",
    "        self.data = []\n",
    "        for idx, row in tqdm(list_df.iterrows(), total=len(list_df)):\n",
    "            corp_code, corp_name = row[\"corp_code\"], row[\"corp_name\"]\n",
    "            rcept_no, report_nm = row[\"rcept_no\"], row[\"report_nm\"]\n",
    "\n",
    "            doc_df = self.dart.sub_docs(rcept_no)\n",
    "            document = {}\n",
    "            for idx, row in doc_df.iterrows():\n",
    "                url = row[\"url\"]\n",
    "                title = row[\"title\"]\n",
    "                response = requests.get(url)\n",
    "                soup = BeautifulSoup(response.text, \"html.parser\")\n",
    "                text = soup.get_text(strip=False)\n",
    "                text = re.sub(r\"\\n+\", \"\\n\", text)\n",
    "                text = re.sub(r\" {2,}\", \" \", text)\n",
    "\n",
    "                document[\"title\"] = title\n",
    "                document[\"text\"] = text\n",
    "\n",
    "            self.data.append(\n",
    "                {\n",
    "                    \"corp_code\": corp_code,\n",
    "                    \"corp_name\": corp_name,\n",
    "                    \"report_nm\": report_nm,\n",
    "                    \"document\": document,\n",
    "                }\n",
    "            )\n",
    "\n",
    "            time.sleep(random.uniform(0.3, 0.9))\n",
    "        if save_dir:\n",
    "            self._save_data(self.data, save_dir)\n",
    "\n",
    "        return self.data\n",
    "\n",
    "    def _save_data(self, data: list[dict], save_dir: str = \"data\") -> None:\n",
    "        if not os.path.exists(save_dir):\n",
    "            os.makedirs(save_dir)\n",
    "\n",
    "        save_path = os.path.join(\n",
    "            save_dir, f\"dart_report_{self.start_date}_{self.end_date}.pkl\"\n",
    "        )\n",
    "        with open(save_path, \"wb\") as f:\n",
    "            dill.dump(data, f)"
   ]
  },
  {
   "cell_type": "code",
   "execution_count": 9,
   "metadata": {},
   "outputs": [],
   "source": [
    "crawler = DartCrawler()\n",
    "\n",
    "list_df = crawler.get_list(start_date=\"2024-01-01\", end_date=\"2024-01-02\")"
   ]
  },
  {
   "cell_type": "code",
   "execution_count": 11,
   "metadata": {},
   "outputs": [],
   "source": [
    "# data = crawler.get_document(list_df, save_dir=\"../data\")"
   ]
  },
  {
   "cell_type": "code",
   "execution_count": 1,
   "metadata": {},
   "outputs": [],
   "source": [
    "import sys\n",
    "\n",
    "sys.path.append(\"..\")"
   ]
  },
  {
   "cell_type": "code",
   "execution_count": 2,
   "metadata": {},
   "outputs": [],
   "source": [
    "from src.dart_crawler import DartCrawler"
   ]
  },
  {
   "cell_type": "code",
   "execution_count": 3,
   "metadata": {},
   "outputs": [],
   "source": [
    "crawler = DartCrawler()\n",
    "\n",
    "list_df = crawler.get_list(start_date=\"2024-01-01\", end_date=\"2024-01-02\")"
   ]
  },
  {
   "cell_type": "code",
   "execution_count": null,
   "metadata": {},
   "outputs": [],
   "source": [
    "data = crawler.get_document(list_df, save_dir=\"../data\")"
   ]
  },
  {
   "cell_type": "code",
   "execution_count": null,
   "metadata": {},
   "outputs": [],
   "source": [
    "crawler.user_agent.random\n"
   ]
  },
  {
   "cell_type": "code",
   "execution_count": 7,
   "metadata": {},
   "outputs": [],
   "source": [
    "from fake_useragent import UserAgent\n",
    "\n",
    "USER_AGENT = UserAgent()"
   ]
  },
  {
   "cell_type": "code",
   "execution_count": null,
   "metadata": {},
   "outputs": [],
   "source": [
    "USER_AGENT.random\n"
   ]
  },
  {
   "cell_type": "code",
   "execution_count": null,
   "metadata": {},
   "outputs": [],
   "source": []
  }
 ],
 "metadata": {
  "kernelspec": {
   "display_name": "study",
   "language": "python",
   "name": "python3"
  },
  "language_info": {
   "codemirror_mode": {
    "name": "ipython",
    "version": 3
   },
   "file_extension": ".py",
   "mimetype": "text/x-python",
   "name": "python",
   "nbconvert_exporter": "python",
   "pygments_lexer": "ipython3",
   "version": "3.11.10"
  }
 },
 "nbformat": 4,
 "nbformat_minor": 2
}
