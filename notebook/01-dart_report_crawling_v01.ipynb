{
 "cells": [
  {
   "cell_type": "markdown",
   "metadata": {},
   "source": [
    "# DART Report Crawling"
   ]
  },
  {
   "cell_type": "markdown",
   "metadata": {},
   "source": [
    "## 0. imports"
   ]
  },
  {
   "cell_type": "code",
   "execution_count": 1,
   "metadata": {},
   "outputs": [],
   "source": [
    "%load_ext jupyter_black"
   ]
  },
  {
   "cell_type": "code",
   "execution_count": 2,
   "metadata": {},
   "outputs": [],
   "source": [
    "import sys\n",
    "\n",
    "sys.path.append(\"..\")"
   ]
  },
  {
   "cell_type": "code",
   "execution_count": 3,
   "metadata": {},
   "outputs": [],
   "source": [
    "import os\n",
    "import re\n",
    "import requests\n",
    "\n",
    "from src.OpenDartReader import OpenDartReader\n",
    "from bs4 import BeautifulSoup"
   ]
  },
  {
   "cell_type": "code",
   "execution_count": null,
   "metadata": {},
   "outputs": [],
   "source": [
    "from dotenv import load_dotenv\n",
    "\n",
    "load_dotenv()"
   ]
  },
  {
   "cell_type": "code",
   "execution_count": 5,
   "metadata": {},
   "outputs": [],
   "source": [
    "dart = OpenDartReader(os.environ[\"DART_API_KEY\"])"
   ]
  },
  {
   "cell_type": "markdown",
   "metadata": {},
   "source": [
    "## 1. 공시검색 (모든종목)\n",
    "\n",
    "- `start`와 `end`는 3개월 이내 범위만 가능함"
   ]
  },
  {
   "cell_type": "code",
   "execution_count": 6,
   "metadata": {},
   "outputs": [],
   "source": [
    "# 2022-01-01 ~ 2022-01-10 모든 회사의 모든 공시목록 (3,139 건)\n",
    "\n",
    "df = dart.list(start=\"2022-01-01\", end=\"2022-01-03\")"
   ]
  },
  {
   "cell_type": "code",
   "execution_count": null,
   "metadata": {},
   "outputs": [],
   "source": [
    "len(df)"
   ]
  },
  {
   "cell_type": "code",
   "execution_count": 8,
   "metadata": {},
   "outputs": [],
   "source": [
    "rcept_no_list = df[\"rcept_no\"].tolist()"
   ]
  },
  {
   "cell_type": "markdown",
   "metadata": {},
   "source": [
    "## 2. 공시문서 크롤링"
   ]
  },
  {
   "cell_type": "code",
   "execution_count": null,
   "metadata": {},
   "outputs": [],
   "source": [
    "rcept_no = rcept_no_list[-2]\n",
    "\n",
    "# xml_text = dart.document(rcept_no)\n",
    "doc_df = dart.sub_docs(rcept_no)"
   ]
  },
  {
   "cell_type": "code",
   "execution_count": 10,
   "metadata": {},
   "outputs": [],
   "source": [
    "# document = {}\n",
    "# for idx, row in doc_df.iterrows():\n",
    "#     url = row[\"url\"]\n",
    "#     title = row[\"title\"]\n",
    "#     response = requests.get(url)\n",
    "#     soup = BeautifulSoup(response.text, \"html.parser\")\n",
    "#     text = soup.get_text(strip=False)\n",
    "#     text = re.sub(r\"\\n+\", \"\\n\", text)\n",
    "#     text = re.sub(r\" {2,}\", \" \", text)\n",
    "\n",
    "#     document[\"title\"] = title\n",
    "#     document[\"text\"] = text"
   ]
  },
  {
   "cell_type": "code",
   "execution_count": 10,
   "metadata": {},
   "outputs": [],
   "source": [
    "import sys\n",
    "\n",
    "sys.path.append(\"..\")\n",
    "from src.utils import ProxyUserAgentManager\n",
    "\n",
    "PROXI_MANAGER = ProxyUserAgentManager()"
   ]
  },
  {
   "cell_type": "code",
   "execution_count": 19,
   "metadata": {},
   "outputs": [],
   "source": [
    "import difflib\n",
    "import pandas as pd\n",
    "from fake_useragent import UserAgent\n",
    "\n",
    "USER_AGENT = UserAgent()\n",
    "USER_AGENT = \"Mozilla/5.0 (X11; Linux x86_64) AppleWebKit/537.36 (KHTML, like Gecko) Chrome/105.0.3904.108 Safari/537.36\""
   ]
  },
  {
   "cell_type": "code",
   "execution_count": 26,
   "metadata": {},
   "outputs": [],
   "source": [
    "config = PROXI_MANAGER.get_next_proxy_user_agent()\n",
    "proxies = {\"http\": \"http://203.0.113.0:8443\", \"https\": \"https://203.0.113.0:8443\"}\n",
    "headers = {\n",
    "    \"User-Agent\": config[\"user_agent\"],\n",
    "}"
   ]
  },
  {
   "cell_type": "code",
   "execution_count": null,
   "metadata": {},
   "outputs": [],
   "source": [
    "proxies, headers"
   ]
  },
  {
   "cell_type": "code",
   "execution_count": 28,
   "metadata": {},
   "outputs": [],
   "source": [
    "rcp_no = \"20220816001711\"\n",
    "match = None"
   ]
  },
  {
   "cell_type": "code",
   "execution_count": null,
   "metadata": {},
   "outputs": [],
   "source": [
    "if rcp_no.isdecimal():\n",
    "    r = requests.get(\n",
    "        f\"http://dart.fss.or.kr/dsaf001/main.do?rcpNo={rcp_no}\",\n",
    "        headers=headers,\n",
    "        proxies=proxies,\n",
    "    )\n",
    "elif rcp_no.startswith(\"http\"):\n",
    "    r = requests.get(rcp_no, headers=headers, proxies=proxies)\n",
    "else:\n",
    "    raise ValueError(\"invalid `rcp_no`(or url)\")\n",
    "\n",
    "## 하위 문서 URL 추출\n",
    "multi_page_re = (\n",
    "    \"\\s+node[12]\\['text'\\][ =]+\\\"(.*?)\\\"\\;\"\n",
    "    \"\\s+node[12]\\['id'\\][ =]+\\\"(\\d+)\\\";\"\n",
    "    \"\\s+node[12]\\['rcpNo'\\][ =]+\\\"(\\d+)\\\";\"\n",
    "    \"\\s+node[12]\\['dcmNo'\\][ =]+\\\"(\\d+)\\\";\"\n",
    "    \"\\s+node[12]\\['eleId'\\][ =]+\\\"(\\d+)\\\";\"\n",
    "    \"\\s+node[12]\\['offset'\\][ =]+\\\"(\\d+)\\\";\"\n",
    "    \"\\s+node[12]\\['length'\\][ =]+\\\"(\\d+)\\\";\"\n",
    "    \"\\s+node[12]\\['dtd'\\][ =]+\\\"(.*?)\\\";\"\n",
    "    \"\\s+node[12]\\['tocNo'\\][ =]+\\\"(\\d+)\\\";\"\n",
    ")\n",
    "matches = re.findall(multi_page_re, r.text)"
   ]
  },
  {
   "cell_type": "code",
   "execution_count": 20,
   "metadata": {},
   "outputs": [],
   "source": [
    "if len(matches) > 0:\n",
    "    row_list = []\n",
    "    for m in matches:\n",
    "        doc_id = m[1]\n",
    "        doc_title = m[0]\n",
    "        params = f\"rcpNo={m[2]}&dcmNo={m[3]}&eleId={m[4]}&offset={m[5]}&length={m[6]}&dtd={m[7]}\"\n",
    "        doc_url = f\"http://dart.fss.or.kr/report/viewer.do?{params}\"\n",
    "        row_list.append([doc_title, doc_url])\n",
    "    df = pd.DataFrame(row_list, columns=[\"title\", \"url\"])\n",
    "    if match:\n",
    "        df[\"similarity\"] = df[\"title\"].apply(\n",
    "            lambda x: difflib.SequenceMatcher(None, x, match).ratio()\n",
    "        )\n",
    "        df = df.sort_values(\"similarity\", ascending=False)\n",
    "else:\n",
    "    single_page_re = (\n",
    "        \"\\t\\tviewDoc\\('(\\d+)', '(\\d+)', '(\\d+)', '(\\d+)', '(\\d+)', '(\\S+)',''\\)\\;\"\n",
    "    )\n",
    "    matches = re.findall(single_page_re, r.text)\n",
    "    if len(matches) > 0:\n",
    "        doc_title = BeautifulSoup(r.text, features=\"lxml\").title.text.strip()\n",
    "        m = matches[0]\n",
    "        params = f\"rcpNo={m[0]}&dcmNo={m[1]}&eleId={m[2]}&offset={m[3]}&length={m[4]}&dtd={m[5]}\"\n",
    "        doc_url = f\"http://dart.fss.or.kr/report/viewer.do?{params}\"\n",
    "        df = pd.DataFrame([[doc_title, doc_url]], columns=[\"title\", \"url\"])"
   ]
  },
  {
   "cell_type": "code",
   "execution_count": null,
   "metadata": {},
   "outputs": [],
   "source": [
    "df"
   ]
  },
  {
   "cell_type": "code",
   "execution_count": null,
   "metadata": {},
   "outputs": [],
   "source": [
    "matches"
   ]
  },
  {
   "cell_type": "code",
   "execution_count": null,
   "metadata": {},
   "outputs": [],
   "source": [
    "f\"http://dart.fss.or.kr/dsaf001/main.do?rcpNo={rcp_no}\""
   ]
  },
  {
   "cell_type": "code",
   "execution_count": null,
   "metadata": {},
   "outputs": [],
   "source": []
  }
 ],
 "metadata": {
  "kernelspec": {
   "display_name": "study",
   "language": "python",
   "name": "python3"
  },
  "language_info": {
   "codemirror_mode": {
    "name": "ipython",
    "version": 3
   },
   "file_extension": ".py",
   "mimetype": "text/x-python",
   "name": "python",
   "nbconvert_exporter": "python",
   "pygments_lexer": "ipython3",
   "version": "3.11.10"
  }
 },
 "nbformat": 4,
 "nbformat_minor": 2
}
